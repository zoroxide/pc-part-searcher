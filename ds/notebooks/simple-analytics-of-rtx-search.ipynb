{
 "cells": [
  {
   "cell_type": "markdown",
   "metadata": {},
   "source": [
    "# Famous computer stores in egypt and amazon.eg\n",
    "- this data is usefull to track what is inside the famous stores, i decided to search about rtx gpus so i scraped 5 websites :__(olx, badr, sigma, elfrancia, amazon.eg)__\n",
    "- i will do some data visualization on\n",
    "- - price distribution\n",
    "  - average price per website\n",
    "  - stock status count (will be *\"contact owner\"* in olx cuz i dont know if the product is sold or not)\n",
    "- if any search result any body intersted in or any task we can do using this data please comment"
   ]
  },
  {
   "cell_type": "markdown",
   "metadata": {},
   "source": [
    "# IMPORTANT EDIT\n",
    "- I merged the tax price and the price so we get the total price for now (onlt el badr group lists the tax and the another are not that why i merged)\n",
    "- stock status count (will be \"contact owner\" in olx cuz i dont know if the product is sold or not)\n",
    "- the Unknown means out of stock, amazon when not listing the price and the stock in the product they mean that is out of stock (if unkown is founf on the other stores it means they did'nt list is in the website is it stock or out of wtock)"
   ]
  },
  {
   "cell_type": "markdown",
   "metadata": {},
   "source": [
    "# Kaggle setting up path and importing important stuff :)"
   ]
  },
  {
   "cell_type": "code",
   "execution_count": null,
   "metadata": {
    "_cell_guid": "b1076dfc-b9ad-4769-8c92-a6c4dae69d19",
    "_uuid": "8f2839f25d086af736a60e9eeb907d3b93b6e0e5",
    "execution": {
     "iopub.execute_input": "2025-01-12T03:30:39.850626Z",
     "iopub.status.busy": "2025-01-12T03:30:39.850194Z",
     "iopub.status.idle": "2025-01-12T03:30:40.814907Z",
     "shell.execute_reply": "2025-01-12T03:30:40.812643Z",
     "shell.execute_reply.started": "2025-01-12T03:30:39.850551Z"
    },
    "trusted": true
   },
   "outputs": [],
   "source": [
    "# This Python 3 environment comes with many helpful analytics libraries installed\n",
    "# It is defined by the kaggle/python Docker image: https://github.com/kaggle/docker-python\n",
    "# For example, here's several helpful packages to load\n",
    "\n",
    "import numpy as np # linear algebra\n",
    "import pandas as pd # data processing, CSV file I/O (e.g. pd.read_csv)\n",
    "import matplotlib.pyplot as plt\n",
    "import seaborn as sns\n",
    "\n",
    "\n",
    "# Input data files are available in the read-only \"../input/\" directory\n",
    "# For example, running this (by clicking run or pressing Shift+Enter) will list all files under the input directory\n",
    "\n",
    "import os\n",
    "for dirname, _, filenames in os.walk(''):\n",
    "    for filename in filenames:\n",
    "        print(os.path.join(dirname, filename))\n",
    "\n",
    "# You can write up to 20GB to the current directory (/kaggle/working/) that gets preserved as output when you create a version using \"Save & Run All\" \n",
    "# You can also write temporary files to /kaggle/temp/, but they won't be saved outside of the current session"
   ]
  },
  {
   "cell_type": "markdown",
   "metadata": {},
   "source": [
    "# 1.Data Loading using Pandas"
   ]
  },
  {
   "cell_type": "markdown",
   "metadata": {},
   "source": [
    "### Load Data"
   ]
  },
  {
   "cell_type": "code",
   "execution_count": null,
   "metadata": {
    "execution": {
     "iopub.execute_input": "2025-01-12T03:30:50.731602Z",
     "iopub.status.busy": "2025-01-12T03:30:50.731180Z",
     "iopub.status.idle": "2025-01-12T03:30:50.758925Z",
     "shell.execute_reply": "2025-01-12T03:30:50.757850Z",
     "shell.execute_reply.started": "2025-01-12T03:30:50.731567Z"
    },
    "trusted": true
   },
   "outputs": [],
   "source": [
    "df = pd.read_csv(\"rtx-result-from-pc-websites-inegypt/data.csv\")"
   ]
  },
  {
   "cell_type": "markdown",
   "metadata": {},
   "source": [
    "# 2. Data Cleaning "
   ]
  },
  {
   "cell_type": "code",
   "execution_count": null,
   "metadata": {
    "execution": {
     "iopub.execute_input": "2025-01-12T03:31:16.806475Z",
     "iopub.status.busy": "2025-01-12T03:31:16.805985Z",
     "iopub.status.idle": "2025-01-12T03:31:16.851136Z",
     "shell.execute_reply": "2025-01-12T03:31:16.850151Z",
     "shell.execute_reply.started": "2025-01-12T03:31:16.806435Z"
    },
    "trusted": true
   },
   "outputs": [],
   "source": [
    "# Ensure 'Price' is treated as string and clean it\n",
    "df['Price'] = (\n",
    "    df['Price']\n",
    "    .astype(str)  # Convert all values in 'Price' to string\n",
    "    .str.replace(r'[^\\d.]', '', regex=True)  # Remove all non-numeric characters except dots\n",
    "    .str.strip()\n",
    ")\n",
    "df['Price'] = pd.to_numeric(df['Price'], errors='coerce')  # Convert to float, invalid entries to NaN\n",
    "\n",
    "# Fill missing values for 'Brand' and 'Model' with 'Unknown'\n",
    "df['Brand'] = df['Brand'].fillna('Unknown')\n",
    "df['Model'] = df['Model'].fillna('Unknown')\n",
    "\n",
    "# Ensure 'Rating' is numeric\n",
    "df['Rating'] = pd.to_numeric(df['Rating'], errors='coerce').fillna(0)\n",
    "\n",
    "# Drop rows with missing or invalid 'Price'\n",
    "df = df.dropna(subset=['Price'])\n",
    "\n",
    "print(\"Done Cleaning\")\n",
    "df.head()\n"
   ]
  },
  {
   "cell_type": "markdown",
   "metadata": {},
   "source": [
    "# let's start Data visualization !"
   ]
  },
  {
   "cell_type": "markdown",
   "metadata": {},
   "source": [
    "# 3. Price distribution"
   ]
  },
  {
   "cell_type": "code",
   "execution_count": null,
   "metadata": {
    "execution": {
     "iopub.execute_input": "2025-01-12T03:32:14.584181Z",
     "iopub.status.busy": "2025-01-12T03:32:14.583760Z",
     "iopub.status.idle": "2025-01-12T03:32:14.966110Z",
     "shell.execute_reply": "2025-01-12T03:32:14.964937Z",
     "shell.execute_reply.started": "2025-01-12T03:32:14.584150Z"
    },
    "trusted": true
   },
   "outputs": [],
   "source": [
    "plt.figure(figsize=(10, 6))\n",
    "sns.histplot(df['Price'], kde=True, bins=30, color='blue')\n",
    "plt.title('Price Distribution of RTX Cards')\n",
    "plt.xlabel('Price (EGP)')\n",
    "plt.ylabel('Frequency')\n",
    "plt.show()"
   ]
  },
  {
   "cell_type": "markdown",
   "metadata": {},
   "source": [
    "# 4.Average price per website"
   ]
  },
  {
   "cell_type": "code",
   "execution_count": null,
   "metadata": {
    "execution": {
     "iopub.execute_input": "2025-01-12T03:32:22.949512Z",
     "iopub.status.busy": "2025-01-12T03:32:22.949135Z",
     "iopub.status.idle": "2025-01-12T03:32:23.213583Z",
     "shell.execute_reply": "2025-01-12T03:32:23.212271Z",
     "shell.execute_reply.started": "2025-01-12T03:32:22.949484Z"
    },
    "trusted": true
   },
   "outputs": [],
   "source": [
    "plt.figure(figsize=(12, 6))\n",
    "avg_price = df.groupby('Website')['Price'].mean().sort_values()\n",
    "avg_price.plot(kind='bar', color='green')\n",
    "plt.title('Average Price of RTX Cards per Website')\n",
    "plt.xlabel('Website')\n",
    "plt.ylabel('Average Price (EGP)')\n",
    "plt.show()"
   ]
  },
  {
   "cell_type": "markdown",
   "metadata": {},
   "source": [
    "# 5. Stock status count"
   ]
  },
  {
   "cell_type": "code",
   "execution_count": null,
   "metadata": {
    "execution": {
     "iopub.execute_input": "2025-01-12T03:32:31.500565Z",
     "iopub.status.busy": "2025-01-12T03:32:31.500209Z",
     "iopub.status.idle": "2025-01-12T03:32:31.737828Z",
     "shell.execute_reply": "2025-01-12T03:32:31.736612Z",
     "shell.execute_reply.started": "2025-01-12T03:32:31.500535Z"
    },
    "trusted": true
   },
   "outputs": [],
   "source": [
    "plt.figure(figsize=(8, 6))\n",
    "sns.countplot(x='Stock', data=df, palette='viridis')\n",
    "plt.title('Stock Status of RTX Cards')\n",
    "plt.xlabel('Stock Status')\n",
    "plt.ylabel('Count')\n",
    "plt.show()"
   ]
  },
  {
   "cell_type": "markdown",
   "metadata": {},
   "source": [
    "# What is the Knowledge now?\n",
    "- __Amazon EG__ is the *Most Expensive*\n",
    "- - and also *Amazon eg* *have the biggest part of the results*\n",
    "- the Average Price is about **30000 to 45000**\n",
    "- *last but not least* and the important thing, *more than 50% of the rtx cards in the marker is OUT OF STOCK !*"
   ]
  }
 ],
 "metadata": {
  "kaggle": {
   "accelerator": "none",
   "dataSources": [
    {
     "datasetId": 6466684,
     "sourceId": 10447295,
     "sourceType": "datasetVersion"
    }
   ],
   "dockerImageVersionId": 30822,
   "isGpuEnabled": false,
   "isInternetEnabled": true,
   "language": "python",
   "sourceType": "notebook"
  },
  "kernelspec": {
   "display_name": "Python 3",
   "language": "python",
   "name": "python3"
  },
  "language_info": {
   "codemirror_mode": {
    "name": "ipython",
    "version": 3
   },
   "file_extension": ".py",
   "mimetype": "text/x-python",
   "name": "python",
   "nbconvert_exporter": "python",
   "pygments_lexer": "ipython3",
   "version": "3.12.3"
  }
 },
 "nbformat": 4,
 "nbformat_minor": 4
}
